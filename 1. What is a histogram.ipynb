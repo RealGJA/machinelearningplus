{
 "cells": [
  {
   "cell_type": "code",
   "execution_count": 1,
   "metadata": {},
   "outputs": [
    {
     "name": "stdout",
     "output_type": "stream",
     "text": [
      "10.0 * * * * * * * * * * * * *\n",
      "20.0 * * * * * * * *\n",
      "30.0 * * * * * * * * *\n",
      "40.0 * * * * * * * * * * * * *\n",
      "50.0 * * * * * * * * *\n",
      "60.0 * * * * * * * * * * * *\n",
      "70.0 * * * * * * * *\n",
      "80.0 * * * * * *\n",
      "90.0 * * * * * * * *\n",
      "100.0 * * * * * * * * * * * * * *\n"
     ]
    }
   ],
   "source": [
    "import numpy as np\n",
    "x = np.random.randint(low=0, high=100, size=100)\n",
    "\n",
    "# Compute frequency and bins\n",
    "frequency, bins = np.histogram(x, bins=10, range=[0, 100])\n",
    "\n",
    "# Pretty Print\n",
    "for b, f in zip(bins[1:], frequency):\n",
    "    print(round(b, 1), ' '.join(np.repeat('*', f)))"
   ]
  },
  {
   "cell_type": "code",
   "execution_count": 2,
   "metadata": {},
   "outputs": [
    {
     "data": {
      "text/plain": [
       "array([87, 18, 25, 44, 90, 55, 26,  7, 26, 96,  5, 90, 55, 89, 45, 90, 37,\n",
       "       36,  5, 91, 93, 70, 68, 48, 70,  4, 72, 12, 68, 14, 57, 59, 35, 65,\n",
       "        9, 42, 30, 12, 46, 91, 16, 39, 56, 92, 93, 45, 34, 23, 80, 91,  5,\n",
       "       79, 47, 84, 36, 38, 28, 37, 39, 85,  6, 67, 76, 55, 23, 55, 36, 51,\n",
       "       32, 96, 29,  5, 55, 89, 93, 85,  9, 11, 36, 70, 49, 61, 92, 48, 51,\n",
       "       69,  0, 60,  4, 68,  9, 84, 22, 21, 51, 97,  9, 52, 19, 18])"
      ]
     },
     "execution_count": 2,
     "metadata": {},
     "output_type": "execute_result"
    }
   ],
   "source": [
    "x"
   ]
  },
  {
   "cell_type": "code",
   "execution_count": 11,
   "metadata": {},
   "outputs": [
    {
     "data": {
      "text/plain": [
       "array([ 7, 17,  9,  9,  6, 12,  8,  7, 12, 13], dtype=int64)"
      ]
     },
     "execution_count": 11,
     "metadata": {},
     "output_type": "execute_result"
    }
   ],
   "source": [
    "frequency"
   ]
  },
  {
   "cell_type": "code",
   "execution_count": 12,
   "metadata": {},
   "outputs": [
    {
     "data": {
      "text/plain": [
       "array([  0.,  10.,  20.,  30.,  40.,  50.,  60.,  70.,  80.,  90., 100.])"
      ]
     },
     "execution_count": 12,
     "metadata": {},
     "output_type": "execute_result"
    }
   ],
   "source": [
    "bins"
   ]
  },
  {
   "cell_type": "code",
   "execution_count": null,
   "metadata": {},
   "outputs": [],
   "source": []
  }
 ],
 "metadata": {
  "kernelspec": {
   "display_name": "Python 3",
   "language": "python",
   "name": "python3"
  },
  "language_info": {
   "codemirror_mode": {
    "name": "ipython",
    "version": 3
   },
   "file_extension": ".py",
   "mimetype": "text/x-python",
   "name": "python",
   "nbconvert_exporter": "python",
   "pygments_lexer": "ipython3",
   "version": "3.7.3"
  }
 },
 "nbformat": 4,
 "nbformat_minor": 2
}
